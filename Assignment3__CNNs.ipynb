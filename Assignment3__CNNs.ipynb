{
  "nbformat": 4,
  "nbformat_minor": 0,
  "metadata": {
    "accelerator": "GPU",
    "colab": {
      "name": "Assignment3_CNNs.ipynb",
      "provenance": [],
      "collapsed_sections": []
    },
    "kernelspec": {
      "display_name": "Python 3",
      "language": "python",
      "name": "python3"
    },
    "language_info": {
      "codemirror_mode": {
        "name": "ipython",
        "version": 3
      },
      "file_extension": ".py",
      "mimetype": "text/x-python",
      "name": "python",
      "nbconvert_exporter": "python",
      "pygments_lexer": "ipython3",
      "version": "3.7.6"
    }
  },
  "cells": [
    {
      "cell_type": "markdown",
      "metadata": {
        "id": "2OpJbKC5BFvI"
      },
      "source": [
        "# Warm up\n",
        "\n",
        "The code below showcases a convolutional network in Keras. It was designed to classify 100x100 rgb images into 10 classes.\n",
        "This network... quite frankly, it sucks. Can you guess what's the problem? Is there just one problem?"
      ]
    },
    {
      "cell_type": "code",
      "metadata": {
        "id": "qxhTe2HvBFvO"
      },
      "source": [
        "import keras\n",
        "from keras import models\n",
        "from keras.models import Sequential\n",
        "from keras.utils import np_utils\n",
        "from keras.preprocessing.image import ImageDataGenerator\n",
        "from keras.layers import Dense, Activation, Flatten, Dropout, BatchNormalization\n",
        "from keras.layers import Conv2D, MaxPooling2D\n",
        "from keras.datasets import cifar10\n",
        "from keras import regularizers\n",
        "from keras.callbacks import LearningRateScheduler\n",
        "import numpy as np\n",
        "from keras import backend as K\n",
        "from matplotlib import pyplot as plt"
      ],
      "execution_count": 1,
      "outputs": []
    },
    {
      "cell_type": "code",
      "metadata": {
        "id": "n0HF9-p3BFvP"
      },
      "source": [
        "net = keras.models.Sequential()\n",
        "\n",
        "net.add(L.InputLayer([100, 100, 3]))\n",
        "\n",
        "net.add(L.Conv2D(filters=512, kernel_size=(3, 3), \n",
        "                 kernel_initializer=init.zeros()))\n",
        "net.add(L.Activation('relu'))\n",
        "\n",
        "net.add(L.Conv2D(filters=128, kernel_size=(3, 3), \n",
        "                 kernel_initializer=init.zeros()))\n",
        "net.add(L.Activation('relu'))\n",
        "\n",
        "net.add(L.Conv2D(filters=32, kernel_size=(3, 3), \n",
        "                 kernel_initializer=init.zeros()))\n",
        "net.add(L.Activation('relu'))\n",
        "\n",
        "net.add(L.MaxPool2D(pool_size=(6, 6)))\n",
        "\n",
        "net.add(L.Conv2D(filters=8, kernel_size=(10, 10), \n",
        "                 kernel_initializer=init.RandomNormal(), padding='same'))\n",
        "net.add(L.Activation('relu'))\n",
        "\n",
        "\n",
        "net.add(L.Conv2D(filters=8, kernel_size=(10, 10), \n",
        "                 kernel_initializer=init.RandomNormal(), padding='same'))\n",
        "net.add(L.Activation('relu'))\n",
        "\n",
        "net.add(L.MaxPool2D(pool_size=(3, 3)))\n",
        "\n",
        "net.add(L.Flatten()) # convert 3d tensor to a vector of features\n",
        "\n",
        "net.add(L.Dense(units=512))\n",
        "net.add(L.Activation('softmax'))\n",
        "\n",
        "net.add(L.Dropout(rate=0.5))\n",
        "\n",
        "net.add(L.Dense(units=512))\n",
        "net.add(L.Activation('softmax'))\n",
        "\n",
        "net.add(L.Dense(units=10))\n",
        "net.add(L.Activation('sigmoid'))\n",
        "net.add(L.Dropout(rate=0.5))"
      ],
      "execution_count": null,
      "outputs": []
    },
    {
      "cell_type": "markdown",
      "metadata": {
        "id": "VMeHimNbBFvP"
      },
      "source": [
        "* [Conv2D](https://keras.io/layers/convolutional/#conv2d) - performs convolution:\n",
        "    * filters: number of output channels;\n",
        "    * kernel_size: an integer or tuple/list of 2 integers, specifying the width and height of the 2D convolution window;\n",
        "    * padding: padding=\"same\" adds zero padding to the input, so that the output has the same width and height, padding='valid' performs convolution only in locations where kernel and the input fully overlap;\n",
        "    * activation: \"relu\", \"tanh\", etc.\n",
        "    * input_shape: shape of input.\n",
        "* [MaxPooling2D](https://keras.io/layers/pooling/#maxpooling2d) - performs 2D max pooling.\n",
        "* [Flatten](https://keras.io/layers/core/#flatten) - flattens the input, does not affect the batch size.\n",
        "* [Dense](https://keras.io/layers/core/#dense) - fully-connected layer.\n",
        "    * Activation - applies an activation function.\n",
        "* [LeakyReLU](https://keras.io/layers/advanced-activations/#leakyrelu) - applies leaky relu activation.\n",
        "* [Dropout](https://keras.io/layers/core/#dropout) - applies dropout."
      ]
    },
    {
      "cell_type": "markdown",
      "metadata": {
        "id": "e0KhP1nrBFvQ"
      },
      "source": [
        "## Book of grudges\n",
        "* zero init for weights will cause symmetry effect\n",
        "* Too many filters for first 3x3 convolution - will lead to enormous matrix while there's just not enough relevant combinations of 3x3 images (overkill).\n",
        "* Usually the further you go, the more filters you need.\n",
        "* large filters (10x10 is generally a bad pactice, and you definitely need more than 10 of them\n",
        "* the second of 10x10 convolution gets 8x6x6 image as input, so it's technically unable to perform such convolution.\n",
        "* Softmax nonlinearity effectively makes only 1 or a few neurons from the entire layer to \"fire\", rendering 512-neuron layer almost useless. Softmax at the output layer is okay though\n",
        "* Dropout after probability prediciton is just lame. A few random classes get probability of 0, so your probabilities no longer sum to 1 and crossentropy goes -inf."
      ]
    },
    {
      "cell_type": "code",
      "metadata": {
        "id": "byy1rUXoBFvQ"
      },
      "source": [
        ""
      ],
      "execution_count": null,
      "outputs": []
    },
    {
      "cell_type": "markdown",
      "metadata": {
        "id": "Nq_Se-NNBFvQ"
      },
      "source": [
        "In this exercise you have to train a new Convolutional Neural Network from scratch for the classification of images.\n",
        "\n",
        "1. For this we will use the Keras library.\n",
        "2. The aim is to achieve 99% accuracy (on validation/test set) the MNIST dataset http://yann.lecun.com/exdb/mnist/.\n",
        "3. We have provided a basic Keras implementation of a CNN.\n",
        "4. You are allowed to do whatever you want (except copy pasting) with the network as long as it is explained in your report.\n",
        "5. Feel free to change the architecture of the network as well as parameters (e.g. learning rate, kernel sizes, ...).\n",
        "6. You can try to guess parameters manually of you want, just make sure that it performs better than 99% on the validation set.\n",
        "7. Sketch the final network architecture in your report.\n",
        "8. Make sure you train the network on the GPU, otherwise it will be too slow.\n",
        "9. Explain the plots: learning curve, accuracy wrt epoch."
      ]
    },
    {
      "cell_type": "code",
      "metadata": {
        "id": "OewEPIR_BFvQ"
      },
      "source": [
        "import tensorflow as tf\n",
        "(x_train, y_train), (x_test, y_test) = tf.keras.datasets.mnist.load_data()"
      ],
      "execution_count": 21,
      "outputs": []
    },
    {
      "cell_type": "code",
      "metadata": {
        "id": "tC5setB7BFvR"
      },
      "source": [
        "x_train = x_train.reshape(x_train.shape[0], 28, 28, 1)\n",
        "x_test = x_test.reshape(x_test.shape[0], 28, 28, 1)"
      ],
      "execution_count": 22,
      "outputs": []
    },
    {
      "cell_type": "code",
      "metadata": {
        "id": "5vAbtm4fBFvR"
      },
      "source": [
        "from sklearn.preprocessing import OneHotEncoder\n",
        "from keras.utils import to_categorical\n",
        "\n",
        "enc = OneHotEncoder()"
      ],
      "execution_count": 23,
      "outputs": []
    },
    {
      "cell_type": "code",
      "metadata": {
        "id": "p36o7f19BFvR"
      },
      "source": [
        "x_train = x_train / 255.0\n",
        "x_test = x_test / 255.0\n",
        "\n",
        "y_train=to_categorical(y_train)\n",
        "y_test=to_categorical(y_test)\n"
      ],
      "execution_count": 24,
      "outputs": []
    },
    {
      "cell_type": "code",
      "metadata": {
        "id": "Bhp6nbZaBFvR"
      },
      "source": [
        "from keras.models import Sequential\n",
        "from keras.layers import Conv2D, MaxPooling2D, Flatten, Dense, Activation, Dropout,BatchNormalization\n",
        "from keras.layers.advanced_activations import LeakyReLU\n",
        "from keras import regularizers\n",
        "from keras import backend as K"
      ],
      "execution_count": 17,
      "outputs": []
    },
    {
      "cell_type": "code",
      "metadata": {
        "id": "sAA7aqzwBFvS"
      },
      "source": [
        "def make_model():\n",
        "    \"\"\"\n",
        "    Define your model architecture here.\n",
        "    Returns `Sequential` model.\n",
        "    \"\"\"\n",
        "    model = Sequential()\n",
        "    model.add(Conv2D(32,(3,3), activation='relu', padding='same',input_shape=(28, 28, 1)))\n",
        "    model.add(Conv2D(64,(3,3), activation='relu', padding='same'))\n",
        "    model.add(MaxPooling2D((2,2)))\n",
        "    model.add(Dropout(0.2))\n",
        "    model.add(Conv2D(128,(3,3), activation='relu', padding='same'))\n",
        "    model.add(MaxPooling2D((2,2)))\n",
        "    model.add(Flatten())    \n",
        "    model.add(Dense(128, activation='relu'))\n",
        "    model.add(Dense(10, activation='softmax'))\n",
        "    \n",
        "    return model"
      ],
      "execution_count": 25,
      "outputs": []
    },
    {
      "cell_type": "code",
      "metadata": {
        "id": "s1OsjERWBFvS",
        "colab": {
          "base_uri": "https://localhost:8080/"
        },
        "outputId": "78ade573-3b6c-49e6-81c1-2ecf0035aee7"
      },
      "source": [
        "K.clear_session()  # clear default graph\n",
        "model = make_model()\n",
        "model.summary()"
      ],
      "execution_count": 26,
      "outputs": [
        {
          "output_type": "stream",
          "text": [
            "Model: \"sequential\"\n",
            "_________________________________________________________________\n",
            "Layer (type)                 Output Shape              Param #   \n",
            "=================================================================\n",
            "conv2d (Conv2D)              (None, 28, 28, 32)        320       \n",
            "_________________________________________________________________\n",
            "conv2d_1 (Conv2D)            (None, 28, 28, 64)        18496     \n",
            "_________________________________________________________________\n",
            "max_pooling2d (MaxPooling2D) (None, 14, 14, 64)        0         \n",
            "_________________________________________________________________\n",
            "dropout (Dropout)            (None, 14, 14, 64)        0         \n",
            "_________________________________________________________________\n",
            "conv2d_2 (Conv2D)            (None, 14, 14, 128)       73856     \n",
            "_________________________________________________________________\n",
            "max_pooling2d_1 (MaxPooling2 (None, 7, 7, 128)         0         \n",
            "_________________________________________________________________\n",
            "flatten (Flatten)            (None, 6272)              0         \n",
            "_________________________________________________________________\n",
            "dense (Dense)                (None, 128)               802944    \n",
            "_________________________________________________________________\n",
            "dense_1 (Dense)              (None, 10)                1290      \n",
            "=================================================================\n",
            "Total params: 896,906\n",
            "Trainable params: 896,906\n",
            "Non-trainable params: 0\n",
            "_________________________________________________________________\n"
          ],
          "name": "stdout"
        }
      ]
    },
    {
      "cell_type": "code",
      "metadata": {
        "id": "A-bMLaGwBFvT",
        "colab": {
          "base_uri": "https://localhost:8080/"
        },
        "outputId": "a6544054-dbd3-41a8-c39d-b9c148ae9433"
      },
      "source": [
        "INIT_LR = 0.01  # initial learning rate\n",
        "BATCH_SIZE = 64\n",
        "EPOCHS = 7\n",
        "\n",
        "K.clear_session()  # clear default graph\n",
        "# don't call K.set_learning_phase() !!! (otherwise will enable dropout in train/test simultaneously)\n",
        "model = make_model()  # define our model\n",
        "\n",
        "# prepare model for fitting (loss, optimizer, etc)\n",
        "model.compile(\n",
        "    loss='categorical_crossentropy',  # we train 10-way classification\n",
        "    optimizer=keras.optimizers.Adamax(lr=INIT_LR, beta_1=0.9, beta_2=0.999, epsilon=1e-07),  # for SGD\n",
        "    metrics=['accuracy']  # report accuracy during training\n",
        ")\n",
        "\n",
        "\n",
        "# fit model\n",
        "model.fit(\n",
        "    x_train, y_train,  # prepared data\n",
        "    batch_size=BATCH_SIZE,\n",
        "    epochs=EPOCHS,\n",
        "    validation_data=(x_test, y_test),\n",
        "    shuffle=True,\n",
        ")"
      ],
      "execution_count": 27,
      "outputs": [
        {
          "output_type": "stream",
          "text": [
            "Epoch 1/7\n",
            "938/938 [==============================] - 7s 8ms/step - loss: 0.4632 - accuracy: 0.8562 - val_loss: 0.0518 - val_accuracy: 0.9837\n",
            "Epoch 2/7\n",
            "938/938 [==============================] - 7s 7ms/step - loss: 0.0528 - accuracy: 0.9831 - val_loss: 0.0388 - val_accuracy: 0.9879\n",
            "Epoch 3/7\n",
            "938/938 [==============================] - 7s 7ms/step - loss: 0.0384 - accuracy: 0.9882 - val_loss: 0.0375 - val_accuracy: 0.9889\n",
            "Epoch 4/7\n",
            "938/938 [==============================] - 7s 7ms/step - loss: 0.0292 - accuracy: 0.9902 - val_loss: 0.0317 - val_accuracy: 0.9892\n",
            "Epoch 5/7\n",
            "938/938 [==============================] - 7s 7ms/step - loss: 0.0204 - accuracy: 0.9933 - val_loss: 0.0321 - val_accuracy: 0.9911\n",
            "Epoch 6/7\n",
            "938/938 [==============================] - 7s 7ms/step - loss: 0.0186 - accuracy: 0.9946 - val_loss: 0.0286 - val_accuracy: 0.9917\n",
            "Epoch 7/7\n",
            "938/938 [==============================] - 7s 7ms/step - loss: 0.0131 - accuracy: 0.9956 - val_loss: 0.0267 - val_accuracy: 0.9917\n"
          ],
          "name": "stdout"
        },
        {
          "output_type": "execute_result",
          "data": {
            "text/plain": [
              "<tensorflow.python.keras.callbacks.History at 0x7fb89a69b4d0>"
            ]
          },
          "metadata": {
            "tags": []
          },
          "execution_count": 27
        }
      ]
    },
    {
      "cell_type": "markdown",
      "metadata": {
        "id": "OWqNOryoBFvT"
      },
      "source": [
        "# Going bigger"
      ]
    },
    {
      "cell_type": "markdown",
      "metadata": {
        "id": "s_v3bUlgBFvU"
      },
      "source": [
        "* Use `tf.keras.datasets.cifar10.load_data()` to get the data\n",
        "* split to 70 - 30 train / val using `train_test_split`\n",
        "* normalize the input like $x_{\\text{norm}} = \\frac{x}{255} - 0.5$\n",
        "* We need to convert class labels to one-hot encoded vectors. Use `keras.utils.to_categorical`."
      ]
    },
    {
      "cell_type": "code",
      "metadata": {
        "id": "ww9DN-OxBFvU"
      },
      "source": [
        "# normalize inputs\n",
        "# convert class labels to one-hot encoded, should have shape (?, NUM_CLASSES)\n",
        "from keras.datasets import cifar10\n",
        "from sklearn.model_selection import train_test_split\n",
        "\n",
        "(x_train,y_train),(x_test,y_test)=cifar10.load_data()\n",
        "\n",
        "x_train, x_val, y_train, y_val = train_test_split(x_train, y_train, test_size=0.3, random_state=43)\n",
        "\n",
        "\n",
        "x_train = x_train / 255.0\n",
        "x_val = x_val / 255.0\n",
        "\n",
        "\n",
        "y_train=to_categorical(y_train)\n",
        "y_val=to_categorical(y_val)\n"
      ],
      "execution_count": 29,
      "outputs": []
    },
    {
      "cell_type": "code",
      "metadata": {
        "id": "FMV2VfmyGDfi"
      },
      "source": [
        ""
      ],
      "execution_count": null,
      "outputs": []
    }
  ]
}